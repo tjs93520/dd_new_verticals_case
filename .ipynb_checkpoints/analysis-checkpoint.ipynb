{
 "cells": [
  {
   "cell_type": "code",
   "execution_count": null,
   "id": "7292d54e-4658-4122-819d-f4e8b8184671",
   "metadata": {},
   "outputs": [],
   "source": [
    "import pandas as pd\n",
    "import numpy as np\n",
    "\n",
    "df = pd.read_excel(\"DoorDash Interview_ 2024 New Verticals Analytics Exercise.xlsx\", header=1)"
   ]
  }
 ],
 "metadata": {
  "kernelspec": {
   "display_name": "Python (dd_case)",
   "language": "python",
   "name": "dd_case"
  },
  "language_info": {
   "codemirror_mode": {
    "name": "ipython",
    "version": 3
   },
   "file_extension": ".py",
   "mimetype": "text/x-python",
   "name": "python",
   "nbconvert_exporter": "python",
   "pygments_lexer": "ipython3",
   "version": "3.11.13"
  }
 },
 "nbformat": 4,
 "nbformat_minor": 5
}
